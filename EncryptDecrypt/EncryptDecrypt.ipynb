{
 "cells": [
  {
   "cell_type": "code",
   "execution_count": 10,
   "metadata": {},
   "outputs": [
    {
     "data": {
      "text/plain": [
       "'ikvjwd'"
      ]
     },
     "execution_count": 10,
     "metadata": {},
     "output_type": "execute_result"
    }
   ],
   "source": [
    "def encrypt(WORD, shift):\n",
    "    alpha= 'abcdefghijklmnopqrstuvwxyz'\n",
    "    letters= alpha.lower();\n",
    "    encryption= ''\n",
    "    for ch in WORD:\n",
    "        if ch in alpha:\n",
    "            num= letters.find(ch)\n",
    "            num= num+shift\n",
    "            if num < 0:\n",
    "                num= num + len(letters)\n",
    "                encryption = encryption + letters[num]\n",
    "            elif num> 26:\n",
    "                num= num - len(letters)\n",
    "                encryption= encryption + letters[num]\n",
    "            else:\n",
    "                encryption= encryption + letters[num]\n",
    "    return encryption\n",
    "encrypt(\"github\", 2)"
   ]
  },
  {
   "cell_type": "code",
   "execution_count": 13,
   "metadata": {},
   "outputs": [
    {
     "data": {
      "text/plain": [
       "'github'"
      ]
     },
     "execution_count": 13,
     "metadata": {},
     "output_type": "execute_result"
    }
   ],
   "source": [
    "def decrypt(WORD, shift):\n",
    "    alpha= 'abcdefghijklmnopqrstuvwxyz'\n",
    "    letters= alpha.lower();\n",
    "    encryption= ''\n",
    "    for ch in WORD:\n",
    "        if ch in alpha:\n",
    "            num= letters.find(ch)\n",
    "            num= num-shift\n",
    "            if num < 0:\n",
    "                num= num + len(letters)\n",
    "                encryption = encryption + letters[num]\n",
    "            elif num> 26:\n",
    "                num= num - len(letters)\n",
    "                encryption= encryption + letters[num]\n",
    "            else:\n",
    "                encryption= encryption + letters[num]\n",
    "    return encryption\n",
    "decrypt(\"ikvjwd\", 2)"
   ]
  },
  {
   "cell_type": "code",
   "execution_count": null,
   "metadata": {},
   "outputs": [],
   "source": []
  }
 ],
 "metadata": {
  "kernelspec": {
   "display_name": "Python 3",
   "language": "python",
   "name": "python3"
  },
  "language_info": {
   "codemirror_mode": {
    "name": "ipython",
    "version": 3
   },
   "file_extension": ".py",
   "mimetype": "text/x-python",
   "name": "python",
   "nbconvert_exporter": "python",
   "pygments_lexer": "ipython3",
   "version": "3.7.3"
  }
 },
 "nbformat": 4,
 "nbformat_minor": 2
}
